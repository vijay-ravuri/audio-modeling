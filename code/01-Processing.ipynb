{
 "cells": [
  {
   "cell_type": "code",
   "execution_count": 1,
   "metadata": {},
   "outputs": [],
   "source": [
    "import pandas as pd\n",
    "import librosa\n",
    "\n",
    "import os\n",
    "PATH = os.getenv('AUDIO_PATH')"
   ]
  },
  {
   "cell_type": "code",
   "execution_count": 3,
   "metadata": {},
   "outputs": [],
   "source": [
    "PATH"
   ]
  },
  {
   "cell_type": "code",
   "execution_count": 2,
   "metadata": {},
   "outputs": [
    {
     "ename": "TypeError",
     "evalue": "unsupported operand type(s) for +: 'NoneType' and 'str'",
     "output_type": "error",
     "traceback": [
      "\u001b[1;31m---------------------------------------------------------------------------\u001b[0m",
      "\u001b[1;31mTypeError\u001b[0m                                 Traceback (most recent call last)",
      "\u001b[1;32mc:\\Users\\vijay\\Documents\\notebooks\\dsi\\Projects\\audio-modeling\\code\\01-Processing.ipynb Cell 2\u001b[0m line \u001b[0;36m1\n\u001b[1;32m----> <a href='vscode-notebook-cell:/c%3A/Users/vijay/Documents/notebooks/dsi/Projects/audio-modeling/code/01-Processing.ipynb#W1sZmlsZQ%3D%3D?line=0'>1</a>\u001b[0m audio_PATH \u001b[39m=\u001b[39m PATH \u001b[39m+\u001b[39;49m \u001b[39m\"\u001b[39;49m\u001b[39mfma_small/\u001b[39;49m\u001b[39m\"\u001b[39;49m\n\u001b[0;32m      <a href='vscode-notebook-cell:/c%3A/Users/vijay/Documents/notebooks/dsi/Projects/audio-modeling/code/01-Processing.ipynb#W1sZmlsZQ%3D%3D?line=2'>3</a>\u001b[0m audio \u001b[39m=\u001b[39m []\n\u001b[0;32m      <a href='vscode-notebook-cell:/c%3A/Users/vijay/Documents/notebooks/dsi/Projects/audio-modeling/code/01-Processing.ipynb#W1sZmlsZQ%3D%3D?line=3'>4</a>\u001b[0m rates \u001b[39m=\u001b[39m []\n",
      "\u001b[1;31mTypeError\u001b[0m: unsupported operand type(s) for +: 'NoneType' and 'str'"
     ]
    }
   ],
   "source": [
    "audio_PATH = PATH + \"fma_small/\"\n",
    "\n",
    "audio = []\n",
    "rates = []\n",
    "track_id = []\n",
    "\n",
    "bad_files = [\n",
    "    '098/098565.mp3',\n",
    "    '098/098567.mp3',\n",
    "    '098/098569.mp3',\n",
    "    '099/099134.mp3',\n",
    "    '108/108925.mp3',\n",
    "    '133/133297.mp3'\n",
    "]\n",
    "\n",
    "\n",
    "for item in os.listdir(audio_PATH):\n",
    "    if 'check' not in item and '.txt' not in item:\n",
    "        for file in os.listdir(audio_PATH + item):\n",
    "            if item + '/' + file in bad_files:\n",
    "                continue\n",
    "            track_id.append(item + '/' + file)\n",
    "            file_path = audio_PATH + track_id[-1]\n",
    "\n",
    "            song, sr = librosa.load(file_path)\n",
    "\n",
    "            mel = librosa.power_to_db(librosa.feature.melspectrogram(y = song, sr = sr)).T[:1291]\n",
    "\n",
    "            audio.append(mel)\n",
    "            rates.append(sr)"
   ]
  },
  {
   "cell_type": "code",
   "execution_count": null,
   "metadata": {},
   "outputs": [],
   "source": [
    "raw_data = pd.Series(\n",
    "    audio, \n",
    "    index = pd.Series(\n",
    "        [int(id[-10:-4]) for id in track_id]\n",
    "        ), \n",
    "    name = 'audio')"
   ]
  },
  {
   "cell_type": "code",
   "execution_count": null,
   "metadata": {},
   "outputs": [],
   "source": [
    "df = pd.read_csv(PATH + \"fma_metadata/tracks.csv\", index_col=0, header=[0, 1])"
   ]
  },
  {
   "cell_type": "code",
   "execution_count": null,
   "metadata": {},
   "outputs": [],
   "source": [
    "artist_album = pd.merge(\n",
    "    df['artist'],\n",
    "    df['album'],\n",
    "    how = 'inner',\n",
    "    left_index = True,\n",
    "    right_index = True\n",
    ").rename(\n",
    "    {\n",
    "        'name' : 'name',\n",
    "        'title' : 'album'\n",
    "    },\n",
    "    axis = 1\n",
    ")[['name', 'album']]\n",
    "\n",
    "genre_artists = pd.merge(\n",
    "    df['set'][df['set']['subset'] == 'small'],\n",
    "    artist_album,\n",
    "    how = 'left',\n",
    "    left_index = True,\n",
    "    right_index = True\n",
    ")\n",
    "\n",
    "tracks = pd.merge(\n",
    "    df['track'],\n",
    "    genre_artists,\n",
    "    how = 'inner',\n",
    "    left_index = True,\n",
    "    right_index = True\n",
    ")[['title', 'name', 'album', 'genre_top', 'split']]\n",
    "\n",
    "\n",
    "indices = [int(file[-10:-4]) for file in bad_files]\n",
    "# tracks.loc[~tracks.index.isin(indices), ].to_csv('../data/tracks_meta.csv')"
   ]
  },
  {
   "cell_type": "code",
   "execution_count": null,
   "metadata": {},
   "outputs": [],
   "source": [
    "for idx, data in zip(raw_data.index, raw_data.values):\n",
    "    # np.save('../data/audio' + str(idx), data)\n",
    "    pass"
   ]
  }
 ],
 "metadata": {
  "kernelspec": {
   "display_name": "capstone",
   "language": "python",
   "name": "python3"
  },
  "language_info": {
   "codemirror_mode": {
    "name": "ipython",
    "version": 3
   },
   "file_extension": ".py",
   "mimetype": "text/x-python",
   "name": "python",
   "nbconvert_exporter": "python",
   "pygments_lexer": "ipython3",
   "version": "3.10.12"
  }
 },
 "nbformat": 4,
 "nbformat_minor": 2
}
