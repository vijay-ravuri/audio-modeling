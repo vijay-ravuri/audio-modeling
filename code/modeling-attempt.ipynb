{
 "cells": [
  {
   "cell_type": "code",
   "execution_count": 1,
   "metadata": {},
   "outputs": [],
   "source": [
    "import numpy as np\n",
    "import pandas as pd\n",
    "\n",
    "import librosa\n",
    "\n",
    "import matplotlib.pyplot as plt"
   ]
  },
  {
   "cell_type": "code",
   "execution_count": 2,
   "metadata": {},
   "outputs": [],
   "source": [
    "from tensorflow.keras.regularizers import l2\n",
    "from tensorflow.keras.models import Sequential\n",
    "from tensorflow.keras.layers import Input, LSTM, Dense, Dropout, \\\n",
    "        Flatten, Activation, ConvLSTM2D, Conv2D, GlobalMaxPooling2D, \\\n",
    "        BatchNormalization, MaxPooling2D, Bidirectional\n",
    "from tensorflow.keras.utils import to_categorical\n",
    "\n",
    "from timeit import default_timer"
   ]
  },
  {
   "cell_type": "code",
   "execution_count": 3,
   "metadata": {},
   "outputs": [],
   "source": [
    "tracks = pd.read_csv('../data/tracks_meta.csv', index_col = 0)\n",
    "\n",
    "# pre-computed melspectograms saved as numpy files\n",
    "data = [(idx, np.load('D:/GA-DSI/capstone-data/audio/' + str(idx) + '.npy')) for idx in tracks.index]\n",
    "raw_data = pd.DataFrame(data, columns = ['idx', 'audio']).set_index('idx')\n",
    "\n",
    "df = pd.merge(\n",
    "    tracks,\n",
    "    raw_data,\n",
    "    how = 'inner',\n",
    "    left_index = True,\n",
    "    right_index = True\n",
    ")\n",
    "\n",
    "del tracks \n",
    "del data\n",
    "del raw_data"
   ]
  },
  {
   "cell_type": "code",
   "execution_count": 4,
   "metadata": {},
   "outputs": [],
   "source": [
    "X_train = np.array([x for x in df[df['split'] == 'training']['audio'].values])\n",
    "X_val = np.array([x for x in df[df['split'] == 'validation']['audio'].values])\n",
    "X_test = np.array([x for x in df[df['split'] == 'test']['audio'].values])\n",
    "\n",
    "df.drop('audio',  axis = 1, inplace = True)\n",
    "\n",
    "genre_map = {\n",
    "    'Hip-Hop' : 0,\n",
    "    'Pop' : 1,\n",
    "    'Folk' : 2,\n",
    "    'Experimental' : 3,\n",
    "    'Rock' : 4,\n",
    "    'International' : 5,\n",
    "    'Electronic' : 6,\n",
    "    'Instrumental' : 7\n",
    "}\n",
    "\n",
    "y_train = to_categorical(df[df['split'] == 'training']['genre_top'].map(genre_map))\n",
    "y_val = to_categorical(df[df['split'] == 'validation']['genre_top'].map(genre_map))\n",
    "y_test = to_categorical(df[df['split'] == 'test']['genre_top'].map(genre_map))"
   ]
  },
  {
   "cell_type": "code",
   "execution_count": 5,
   "metadata": {},
   "outputs": [],
   "source": [
    "model = Sequential()\n",
    "\n",
    "model.add(Input(shape = (1291, 128, 1)))\n",
    "model.add(BatchNormalization())\n",
    "\n",
    "model.add(Conv2D(filters = 64, kernel_size = (2, 2), activation = 'relu'))\n",
    "model.add(MaxPooling2D(pool_size = (2, 2)))\n",
    "\n",
    "#model.add(Conv2D(32, kernel_size = 4, activation = 'relu'))\n",
    "# model.add(BatchNormalization())\n",
    "#model.add(MaxPooling2D(pool_size = 2, strides = 2))\n",
    "#model.add(Dropout(0.2))\n",
    "\n",
    "#model.add(GlobalMaxPooling2D())\n",
    "\n",
    "model.add(Flatten())\n",
    "\n",
    "model.add(Dense(128, activation = 'relu', kernel_regularizer = l2()))\n",
    "model.add(Dropout(0.1))\n",
    "model.add(Dense(32, activation = 'relu', kernel_regularizer = l2()))\n",
    "\n",
    "model.add(Dense(8, activation = 'softmax'))\n",
    "\n",
    "model.compile(\n",
    "              loss = 'categorical_crossentropy',\n",
    "              optimizer = 'adam', \n",
    "              metrics = ['accuracy']\n",
    "              )"
   ]
  },
  {
   "cell_type": "code",
   "execution_count": 6,
   "metadata": {},
   "outputs": [
    {
     "name": "stdout",
     "output_type": "stream",
     "text": [
      "Epoch 1/10\n",
      "100/100 [==============================] - 486s 5s/step - loss: 22.0229 - accuracy: 0.1570 - val_loss: 3.4985 - val_accuracy: 0.1175\n",
      "Epoch 2/10\n",
      "100/100 [==============================] - 479s 5s/step - loss: 2.9705 - accuracy: 0.1379 - val_loss: 2.6083 - val_accuracy: 0.1450\n",
      "Epoch 3/10\n",
      "100/100 [==============================] - 478s 5s/step - loss: 2.7415 - accuracy: 0.1350 - val_loss: 2.6507 - val_accuracy: 0.1250\n",
      "Epoch 4/10\n",
      "100/100 [==============================] - 478s 5s/step - loss: 2.5590 - accuracy: 0.1307 - val_loss: 2.5228 - val_accuracy: 0.1562\n",
      "Epoch 5/10\n",
      "100/100 [==============================] - 480s 5s/step - loss: 2.5937 - accuracy: 0.1608 - val_loss: 2.3752 - val_accuracy: 0.1975\n",
      "Epoch 6/10\n",
      "100/100 [==============================] - 478s 5s/step - loss: 2.4772 - accuracy: 0.1791 - val_loss: 2.4143 - val_accuracy: 0.1863\n",
      "Epoch 7/10\n",
      "100/100 [==============================] - 478s 5s/step - loss: 2.4547 - accuracy: 0.1913 - val_loss: 2.8901 - val_accuracy: 0.2000\n",
      "Epoch 8/10\n",
      "100/100 [==============================] - 477s 5s/step - loss: 2.5175 - accuracy: 0.2168 - val_loss: 2.4961 - val_accuracy: 0.2025\n",
      "Epoch 9/10\n",
      "100/100 [==============================] - 477s 5s/step - loss: 2.5445 - accuracy: 0.2154 - val_loss: 2.4191 - val_accuracy: 0.2237\n",
      "Epoch 10/10\n",
      "100/100 [==============================] - 477s 5s/step - loss: 2.4134 - accuracy: 0.2221 - val_loss: 2.4332 - val_accuracy: 0.2113\n",
      "79.84162584833102\n"
     ]
    }
   ],
   "source": [
    "start = default_timer()\n",
    "\n",
    "history = model.fit(X_train, y_train, epochs = 10, validation_data = (X_val, y_val), batch_size = 64)\n",
    "\n",
    "print((default_timer() - start)/ 60)"
   ]
  },
  {
   "cell_type": "code",
   "execution_count": 7,
   "metadata": {},
   "outputs": [
    {
     "name": "stdout",
     "output_type": "stream",
     "text": [
      "13/13 [==============================] - 12s 878ms/step\n"
     ]
    }
   ],
   "source": [
    "predictions = model.predict(X_test, batch_size = 64)"
   ]
  },
  {
   "cell_type": "code",
   "execution_count": 13,
   "metadata": {},
   "outputs": [
    {
     "data": {
      "text/plain": [
       "0.20625"
      ]
     },
     "execution_count": 13,
     "metadata": {},
     "output_type": "execute_result"
    }
   ],
   "source": [
    "np.mean(np.argmax(predictions, axis = 1) == np.argmax(y_test, axis = 1))"
   ]
  },
  {
   "cell_type": "code",
   "execution_count": 14,
   "metadata": {},
   "outputs": [
    {
     "data": {
      "text/plain": [
       "Rock             0.125\n",
       "International    0.125\n",
       "Folk             0.125\n",
       "Experimental     0.125\n",
       "Instrumental     0.125\n",
       "Pop              0.125\n",
       "Hip-Hop          0.125\n",
       "Electronic       0.125\n",
       "Name: genre_top, dtype: float64"
      ]
     },
     "execution_count": 14,
     "metadata": {},
     "output_type": "execute_result"
    }
   ],
   "source": [
    "df[df['split'] == 'test']['genre_top'].value_counts(normalize = True)"
   ]
  },
  {
   "cell_type": "code",
   "execution_count": 25,
   "metadata": {},
   "outputs": [
    {
     "data": {
      "image/png": "[encoded data removed]",
      "text/plain": [
       "<Figure size 640x480 with 1 Axes>"
      ]
     },
     "metadata": {},
     "output_type": "display_data"
    }
   ],
   "source": [
    "plt.plot(history.history['loss'], label = 'Train')\n",
    "plt.plot(history.history['val_loss'], label = 'Validation')\n",
    "plt.title('Train vs Validation Loss')\n",
    "plt.legend();"
   ]
  },
  {
   "cell_type": "code",
   "execution_count": 26,
   "metadata": {},
   "outputs": [
    {
     "data": {
      "image/png": "[encoded data removed]",
      "text/plain": [
       "<Figure size 640x480 with 1 Axes>"
      ]
     },
     "metadata": {},
     "output_type": "display_data"
    }
   ],
   "source": [
    "plt.plot(history.history['accuracy'], label = 'Train')\n",
    "plt.plot(history.history['val_accuracy'], label = 'Validation')\n",
    "plt.title('Train vs Validation Accuracy')\n",
    "plt.legend();"
   ]
  },
  {
   "cell_type": "code",
   "execution_count": 7,
   "metadata": {},
   "outputs": [],
   "source": [
    "model = Sequential()\n",
    "\n",
    "model.add(Input(shape = (1291, 128, 1)))\n",
    "model.add(BatchNormalization())\n",
    "\n",
    "model.add(Conv2D(filters = 16, kernel_size = (20, 2), activation = 'relu')) # (2/128) * (1291) = 20.17 so this is proportional \n",
    "model.add(MaxPooling2D(pool_size = (2, 2)))\n",
    "model.add(Conv2D(filters = 16, kernel_size = (20, 2), activation = 'relu'))\n",
    "model.add(MaxPooling2D(pool_size = (2, 2)))\n",
    "\n",
    "# model.add(GlobalMaxPooling2D())\n",
    "\n",
    "model.add(Flatten())\n",
    "\n",
    "model.add(Dense(128, activation = 'relu', kernel_regularizer = l2()))\n",
    "model.add(Dropout(0.1))\n",
    "model.add(Dense(32, activation = 'relu', kernel_regularizer = l2()))\n",
    "\n",
    "model.add(Dense(8, activation = 'softmax'))\n",
    "\n",
    "model.compile(\n",
    "              loss = 'categorical_crossentropy',\n",
    "              optimizer = 'adam', \n",
    "              metrics = ['accuracy']\n",
    "              )"
   ]
  },
  {
   "cell_type": "code",
   "execution_count": 14,
   "metadata": {},
   "outputs": [
    {
     "name": "stdout",
     "output_type": "stream",
     "text": [
      "Epoch 1/10\n",
      "100/100 [==============================] - 391s 4s/step - loss: 4.1073 - accuracy: 0.1218 - val_loss: 2.5683 - val_accuracy: 0.1250\n",
      "Epoch 2/10\n",
      "100/100 [==============================] - 387s 4s/step - loss: 2.3735 - accuracy: 0.1215 - val_loss: 2.2653 - val_accuracy: 0.1250\n",
      "Epoch 3/10\n",
      "100/100 [==============================] - 380s 4s/step - loss: 2.2306 - accuracy: 0.1240 - val_loss: 2.2079 - val_accuracy: 0.1250\n",
      "Epoch 4/10\n",
      "100/100 [==============================] - 376s 4s/step - loss: 2.1978 - accuracy: 0.1193 - val_loss: 2.1896 - val_accuracy: 0.1250\n",
      "Epoch 5/10\n",
      "100/100 [==============================] - 376s 4s/step - loss: 2.1844 - accuracy: 0.1181 - val_loss: 2.1793 - val_accuracy: 0.1250\n",
      "Epoch 6/10\n",
      "100/100 [==============================] - 377s 4s/step - loss: 2.1754 - accuracy: 0.1209 - val_loss: 2.1713 - val_accuracy: 0.1250\n",
      "Epoch 7/10\n",
      "100/100 [==============================] - 377s 4s/step - loss: 2.1680 - accuracy: 0.1209 - val_loss: 2.1643 - val_accuracy: 0.1250\n",
      "Epoch 8/10\n",
      "100/100 [==============================] - 381s 4s/step - loss: 2.1613 - accuracy: 0.1240 - val_loss: 2.1580 - val_accuracy: 0.1250\n",
      "Epoch 9/10\n",
      "100/100 [==============================] - 382s 4s/step - loss: 2.1552 - accuracy: 0.1239 - val_loss: 2.1522 - val_accuracy: 0.1250\n",
      "Epoch 10/10\n",
      "100/100 [==============================] - 384s 4s/step - loss: 2.1496 - accuracy: 0.1179 - val_loss: 2.1467 - val_accuracy: 0.1250\n",
      "63.54412586500015\n"
     ]
    }
   ],
   "source": [
    "start = default_timer()\n",
    "\n",
    "history = model.fit(X_train, y_train, epochs = 10, validation_data = (X_val, y_val), batch_size = 64)\n",
    "\n",
    "print((default_timer() - start)/ 60)"
   ]
  },
  {
   "cell_type": "code",
   "execution_count": 15,
   "metadata": {},
   "outputs": [
    {
     "name": "stdout",
     "output_type": "stream",
     "text": [
      "13/13 [==============================] - 7s 519ms/step\n"
     ]
    },
    {
     "data": {
      "text/plain": [
       "0.125"
      ]
     },
     "execution_count": 15,
     "metadata": {},
     "output_type": "execute_result"
    }
   ],
   "source": [
    "predictions = model.predict(X_test, batch_size = 64)\n",
    "np.mean(np.argmax(predictions, axis = 1) == np.argmax(y_test, axis = 1))"
   ]
  },
  {
   "cell_type": "code",
   "execution_count": 20,
   "metadata": {},
   "outputs": [
    {
     "data": {
      "text/plain": [
       "(6.0, 0.0)"
      ]
     },
     "execution_count": 20,
     "metadata": {},
     "output_type": "execute_result"
    }
   ],
   "source": [
    "np.argmax(predictions, axis = 1).mean(), np.argmax(predictions, axis = 1).var()"
   ]
  },
  {
   "cell_type": "code",
   "execution_count": null,
   "metadata": {},
   "outputs": [],
   "source": []
  }
 ],
 "metadata": {
  "kernelspec": {
   "display_name": "capstone",
   "language": "python",
   "name": "python3"
  },
  "language_info": {
   "codemirror_mode": {
    "name": "ipython",
    "version": 3
   },
   "file_extension": ".py",
   "mimetype": "text/x-python",
   "name": "python",
   "nbconvert_exporter": "python",
   "pygments_lexer": "ipython3",
   "version": "3.10.12"
  }
 },
 "nbformat": 4,
 "nbformat_minor": 2
}
